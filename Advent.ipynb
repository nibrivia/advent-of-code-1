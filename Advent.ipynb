{
 "cells": [
  {
   "cell_type": "markdown",
   "metadata": {},
   "source": [
    "### Day 1"
   ]
  },
  {
   "cell_type": "code",
   "execution_count": 1,
   "metadata": {
    "collapsed": true
   },
   "outputs": [],
   "source": [
    "def sanitize(data):\n",
    "    for i in range(len(data)):\n",
    "        new = data[i][:-1]\n",
    "        if new[0] == '+':\n",
    "            new = new[1:]\n",
    "        data[i] = int(new)\n",
    "    return data"
   ]
  },
  {
   "cell_type": "code",
   "execution_count": 2,
   "metadata": {
    "collapsed": false
   },
   "outputs": [
    {
     "name": "stdout",
     "output_type": "stream",
     "text": [
      "445\n"
     ]
    }
   ],
   "source": [
    "input_file = open('input1.txt','r')\n",
    "nums = sanitize(input_file.readlines())\n",
    "print(sum(nums))"
   ]
  },
  {
   "cell_type": "code",
   "execution_count": 3,
   "metadata": {
    "collapsed": false
   },
   "outputs": [
    {
     "data": {
      "text/plain": [
       "219"
      ]
     },
     "execution_count": 3,
     "metadata": {},
     "output_type": "execute_result"
    }
   ],
   "source": [
    "def find_repeats(data,freqs={0},f=0):\n",
    "    while True:\n",
    "        for n in data:\n",
    "            f += n\n",
    "            if f in freqs:\n",
    "                return f\n",
    "            else:\n",
    "                freqs.add(f)\n",
    "            \n",
    "find_repeats(nums)"
   ]
  },
  {
   "cell_type": "markdown",
   "metadata": {
    "collapsed": true
   },
   "source": [
    "### Day 2"
   ]
  },
  {
   "cell_type": "code",
   "execution_count": 6,
   "metadata": {
    "collapsed": false
   },
   "outputs": [],
   "source": [
    "input_2 = open('input2.txt','r')\n",
    "codes = [c[:-1] for c in input_2.readlines()]"
   ]
  },
  {
   "cell_type": "code",
   "execution_count": 26,
   "metadata": {
    "collapsed": true
   },
   "outputs": [],
   "source": [
    "from collections import Counter\n",
    "from itertools import combinations"
   ]
  },
  {
   "cell_type": "code",
   "execution_count": 24,
   "metadata": {
    "collapsed": false
   },
   "outputs": [
    {
     "data": {
      "text/plain": [
       "8820"
      ]
     },
     "execution_count": 24,
     "metadata": {},
     "output_type": "execute_result"
    }
   ],
   "source": [
    "def checksum(data):\n",
    "    twos = 0\n",
    "    threes = 0\n",
    "    for code in data:\n",
    "        letter_counts = Counter(code).values()\n",
    "        if 2 in letter_counts:\n",
    "            twos += 1\n",
    "        if 3 in letter_counts:\n",
    "            threes += 1\n",
    "    return twos*threes\n",
    "\n",
    "checksum(codes)"
   ]
  },
  {
   "cell_type": "code",
   "execution_count": 44,
   "metadata": {
    "collapsed": false
   },
   "outputs": [
    {
     "name": "stdout",
     "output_type": "stream",
     "text": [
      "bpacnmglhizqygfsjixtkwudr\n"
     ]
    }
   ],
   "source": [
    "def hamming(string1,string2):\n",
    "    hamming = 0\n",
    "    for n in range(len(string1)):\n",
    "        if string1[n] != string2[n]:\n",
    "            hamming += 1\n",
    "    return hamming\n",
    "\n",
    "def closest_codes(data):\n",
    "    best_diff = float('INF')\n",
    "    best_combo = None\n",
    "    combos = combinations(data, 2)\n",
    "    for c in combos:\n",
    "        diff = hamming(c[0],c[1])\n",
    "        if diff < best_diff:\n",
    "            best_diff = diff\n",
    "            best_combo = c\n",
    "    return best_combo\n",
    "\n",
    "def common_letters(data):\n",
    "    common = ''\n",
    "    s1,s2 = closest_codes(data)\n",
    "    for n in range(len(s1)):\n",
    "        if s1[n] == s2[n]:\n",
    "            common += s1[n]\n",
    "    return common\n",
    "\n",
    "print(common_letters(codes))"
   ]
  },
  {
   "cell_type": "markdown",
   "metadata": {
    "collapsed": true
   },
   "source": [
    "### Day 3"
   ]
  },
  {
   "cell_type": "code",
   "execution_count": null,
   "metadata": {
    "collapsed": true
   },
   "outputs": [],
   "source": []
  },
  {
   "cell_type": "code",
   "execution_count": null,
   "metadata": {
    "collapsed": true
   },
   "outputs": [],
   "source": []
  },
  {
   "cell_type": "code",
   "execution_count": null,
   "metadata": {
    "collapsed": true
   },
   "outputs": [],
   "source": []
  },
  {
   "cell_type": "code",
   "execution_count": null,
   "metadata": {
    "collapsed": true
   },
   "outputs": [],
   "source": []
  },
  {
   "cell_type": "code",
   "execution_count": null,
   "metadata": {
    "collapsed": true
   },
   "outputs": [],
   "source": []
  },
  {
   "cell_type": "code",
   "execution_count": null,
   "metadata": {
    "collapsed": true
   },
   "outputs": [],
   "source": []
  }
 ],
 "metadata": {
  "anaconda-cloud": {},
  "kernelspec": {
   "display_name": "Python [conda root]",
   "language": "python",
   "name": "conda-root-py"
  },
  "language_info": {
   "codemirror_mode": {
    "name": "ipython",
    "version": 3
   },
   "file_extension": ".py",
   "mimetype": "text/x-python",
   "name": "python",
   "nbconvert_exporter": "python",
   "pygments_lexer": "ipython3",
   "version": "3.5.2"
  }
 },
 "nbformat": 4,
 "nbformat_minor": 1
}
